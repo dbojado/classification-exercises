{
 "cells": [
  {
   "cell_type": "markdown",
   "metadata": {},
   "source": [
    "## Monday Morning Warmup"
   ]
  },
  {
   "cell_type": "markdown",
   "metadata": {},
   "source": [
    "Take the word EASY: Its first three letters — E, A and S — are the fifth, first, and nineteenth letters, respectively, in the alphabet. If you add 5, 1, and 19, you get 25, which is the value of the alphabetical position of Y, the last letter of EASY."
   ]
  },
  {
   "cell_type": "markdown",
   "metadata": {},
   "source": [
    "Can you think of a common five-letter word that works in the opposite way — in which the value of the alphabetical positions of its last four letters add up to the value of the alphabetical position of its first letter?"
   ]
  },
  {
   "cell_type": "markdown",
   "metadata": {},
   "source": [
    "### 1. Think about how to break this problem down into steps and write out a plan for your solution."
   ]
  },
  {
   "cell_type": "markdown",
   "metadata": {},
   "source": [
    "- Assign each letter a number from 1 - 26"
   ]
  },
  {
   "cell_type": "markdown",
   "metadata": {},
   "source": [
    "- Need the letter number value sum for a word"
   ]
  },
  {
   "cell_type": "markdown",
   "metadata": {},
   "source": [
    "- Do this for all the words in the dict list "
   ]
  },
  {
   "cell_type": "markdown",
   "metadata": {},
   "source": [
    "### 2. There is a file on your mac that contains a list of words -- /usr/share/dict/words."
   ]
  },
  {
   "cell_type": "markdown",
   "metadata": {},
   "source": [
    "### 3. Open this file with either python or pandas and implement your solution."
   ]
  },
  {
   "cell_type": "code",
   "execution_count": 7,
   "metadata": {},
   "outputs": [
    {
     "data": {
      "text/plain": [
       "26"
      ]
     },
     "execution_count": 7,
     "metadata": {},
     "output_type": "execute_result"
    }
   ],
   "source": [
    "def get_letter_value(letter):\n",
    "    return'abcdefghijklmnopqrstuvwxyz'.index(letter.lower()) + 1\n",
    "    \n",
    "get_letter_value('z')"
   ]
  },
  {
   "cell_type": "code",
   "execution_count": 9,
   "metadata": {},
   "outputs": [
    {
     "data": {
      "text/plain": [
       "6"
      ]
     },
     "execution_count": 9,
     "metadata": {},
     "output_type": "execute_result"
    }
   ],
   "source": [
    "def get_word_value(letters):\n",
    "    total = 0\n",
    "    for letter in letters:\n",
    "        total += get_letter_value(letter)\n",
    "    return total\n",
    "\n",
    "get_word_value('abc')"
   ]
  },
  {
   "cell_type": "code",
   "execution_count": 17,
   "metadata": {},
   "outputs": [
    {
     "data": {
      "text/plain": [
       "False"
      ]
     },
     "execution_count": 17,
     "metadata": {},
     "output_type": "execute_result"
    }
   ],
   "source": [
    "def does_word_match(word):\n",
    "    if len(word) != 5:\n",
    "        return False\n",
    "    first_letter = word[0]\n",
    "    last_four = word[1:]\n",
    "    return get_word_value(last_four) == get_letter_value(first_letter)\n",
    "does_word_match('abcde')"
   ]
  },
  {
   "cell_type": "code",
   "execution_count": 14,
   "metadata": {},
   "outputs": [],
   "source": [
    "with open('/usr/share/dict/words') as f:\n",
    "    words = f.read().strip().split('\\n')"
   ]
  },
  {
   "cell_type": "code",
   "execution_count": 15,
   "metadata": {},
   "outputs": [
    {
     "name": "stdout",
     "output_type": "stream",
     "text": [
      "raffe\n",
      "Sadie\n",
      "sifac\n",
      "table\n",
      "Uchee\n",
      "vakia\n",
      "Vicia\n",
      "wanga\n",
      "whack\n",
      "Xicak\n",
      "yeara\n",
      "zebra\n"
     ]
    }
   ],
   "source": [
    "for word in words:\n",
    "    if does_word_match(word):\n",
    "        print(word)"
   ]
  },
  {
   "cell_type": "markdown",
   "metadata": {},
   "source": [
    "### Or another solution..."
   ]
  },
  {
   "cell_type": "code",
   "execution_count": 21,
   "metadata": {},
   "outputs": [],
   "source": [
    "import pandas as pd"
   ]
  },
  {
   "cell_type": "code",
   "execution_count": 26,
   "metadata": {},
   "outputs": [
    {
     "data": {
      "text/html": [
       "<div>\n",
       "<style scoped>\n",
       "    .dataframe tbody tr th:only-of-type {\n",
       "        vertical-align: middle;\n",
       "    }\n",
       "\n",
       "    .dataframe tbody tr th {\n",
       "        vertical-align: top;\n",
       "    }\n",
       "\n",
       "    .dataframe thead th {\n",
       "        text-align: right;\n",
       "    }\n",
       "</style>\n",
       "<table border=\"1\" class=\"dataframe\">\n",
       "  <thead>\n",
       "    <tr style=\"text-align: right;\">\n",
       "      <th></th>\n",
       "      <th>word</th>\n",
       "      <th>word_length</th>\n",
       "      <th>first_letter</th>\n",
       "      <th>last_four</th>\n",
       "      <th>first_val</th>\n",
       "      <th>last_four_val</th>\n",
       "    </tr>\n",
       "  </thead>\n",
       "  <tbody>\n",
       "    <tr>\n",
       "      <th>162735</th>\n",
       "      <td>raffe</td>\n",
       "      <td>5</td>\n",
       "      <td>r</td>\n",
       "      <td>affe</td>\n",
       "      <td>18</td>\n",
       "      <td>18</td>\n",
       "    </tr>\n",
       "    <tr>\n",
       "      <th>172406</th>\n",
       "      <td>Sadie</td>\n",
       "      <td>5</td>\n",
       "      <td>S</td>\n",
       "      <td>adie</td>\n",
       "      <td>19</td>\n",
       "      <td>19</td>\n",
       "    </tr>\n",
       "    <tr>\n",
       "      <th>181168</th>\n",
       "      <td>sifac</td>\n",
       "      <td>5</td>\n",
       "      <td>s</td>\n",
       "      <td>ifac</td>\n",
       "      <td>19</td>\n",
       "      <td>19</td>\n",
       "    </tr>\n",
       "    <tr>\n",
       "      <th>197206</th>\n",
       "      <td>table</td>\n",
       "      <td>5</td>\n",
       "      <td>t</td>\n",
       "      <td>able</td>\n",
       "      <td>20</td>\n",
       "      <td>20</td>\n",
       "    </tr>\n",
       "    <tr>\n",
       "      <th>210149</th>\n",
       "      <td>Uchee</td>\n",
       "      <td>5</td>\n",
       "      <td>U</td>\n",
       "      <td>chee</td>\n",
       "      <td>21</td>\n",
       "      <td>21</td>\n",
       "    </tr>\n",
       "    <tr>\n",
       "      <th>226709</th>\n",
       "      <td>vakia</td>\n",
       "      <td>5</td>\n",
       "      <td>v</td>\n",
       "      <td>akia</td>\n",
       "      <td>22</td>\n",
       "      <td>22</td>\n",
       "    </tr>\n",
       "    <tr>\n",
       "      <th>228545</th>\n",
       "      <td>Vicia</td>\n",
       "      <td>5</td>\n",
       "      <td>V</td>\n",
       "      <td>icia</td>\n",
       "      <td>22</td>\n",
       "      <td>22</td>\n",
       "    </tr>\n",
       "    <tr>\n",
       "      <th>230352</th>\n",
       "      <td>wanga</td>\n",
       "      <td>5</td>\n",
       "      <td>w</td>\n",
       "      <td>anga</td>\n",
       "      <td>23</td>\n",
       "      <td>23</td>\n",
       "    </tr>\n",
       "    <tr>\n",
       "      <th>231506</th>\n",
       "      <td>whack</td>\n",
       "      <td>5</td>\n",
       "      <td>w</td>\n",
       "      <td>hack</td>\n",
       "      <td>23</td>\n",
       "      <td>23</td>\n",
       "    </tr>\n",
       "    <tr>\n",
       "      <th>234120</th>\n",
       "      <td>Xicak</td>\n",
       "      <td>5</td>\n",
       "      <td>X</td>\n",
       "      <td>icak</td>\n",
       "      <td>24</td>\n",
       "      <td>24</td>\n",
       "    </tr>\n",
       "    <tr>\n",
       "      <th>234512</th>\n",
       "      <td>yeara</td>\n",
       "      <td>5</td>\n",
       "      <td>y</td>\n",
       "      <td>eara</td>\n",
       "      <td>25</td>\n",
       "      <td>25</td>\n",
       "    </tr>\n",
       "    <tr>\n",
       "      <th>235088</th>\n",
       "      <td>zebra</td>\n",
       "      <td>5</td>\n",
       "      <td>z</td>\n",
       "      <td>ebra</td>\n",
       "      <td>26</td>\n",
       "      <td>26</td>\n",
       "    </tr>\n",
       "  </tbody>\n",
       "</table>\n",
       "</div>"
      ],
      "text/plain": [
       "         word  word_length first_letter last_four  first_val  last_four_val\n",
       "162735  raffe            5            r      affe         18             18\n",
       "172406  Sadie            5            S      adie         19             19\n",
       "181168  sifac            5            s      ifac         19             19\n",
       "197206  table            5            t      able         20             20\n",
       "210149  Uchee            5            U      chee         21             21\n",
       "226709  vakia            5            v      akia         22             22\n",
       "228545  Vicia            5            V      icia         22             22\n",
       "230352  wanga            5            w      anga         23             23\n",
       "231506  whack            5            w      hack         23             23\n",
       "234120  Xicak            5            X      icak         24             24\n",
       "234512  yeara            5            y      eara         25             25\n",
       "235088  zebra            5            z      ebra         26             26"
      ]
     },
     "execution_count": 26,
     "metadata": {},
     "output_type": "execute_result"
    }
   ],
   "source": [
    "df = pd.read_csv('/usr/share/dict/words', header=None, names=['word'])\n",
    "df['word_length'] = df.word.apply(str).apply(len)\n",
    "df = df[df.word_length == 5]\n",
    "df['first_letter'] = df.word.str[0]\n",
    "df['last_four'] = df.word.str[1:]\n",
    "df['first_val'] = df.first_letter.apply(get_letter_value)\n",
    "df['last_four_val'] = df.last_four.apply(get_word_value)\n",
    "df[df.first_val == df.last_four_val]"
   ]
  }
 ],
 "metadata": {
  "kernelspec": {
   "display_name": "Python 3",
   "language": "python",
   "name": "python3"
  },
  "language_info": {
   "codemirror_mode": {
    "name": "ipython",
    "version": 3
   },
   "file_extension": ".py",
   "mimetype": "text/x-python",
   "name": "python",
   "nbconvert_exporter": "python",
   "pygments_lexer": "ipython3",
   "version": "3.7.6"
  }
 },
 "nbformat": 4,
 "nbformat_minor": 4
}
