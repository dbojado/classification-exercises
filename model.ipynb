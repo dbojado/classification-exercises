{
 "cells": [
  {
   "cell_type": "markdown",
   "metadata": {},
   "source": [
    "# Logistic Regression "
   ]
  },
  {
   "cell_type": "markdown",
   "metadata": {},
   "source": [
    "In this exercise, we'll continue working with the titanic dataset and building logistic regression models. Throughout this exercise, be sure you are training, evaluation, and comparing models on the train and validate datasets. The test dataset should only be used for your final model.\n",
    "\n",
    "For all of the models you create, choose a threshold that optimizes for accuracy.\n",
    "\n",
    "Do your work for these exercises in either a notebook or a python script named model within your classification-exercises repository. Add, commit, and push your work."
   ]
  },
  {
   "cell_type": "code",
   "execution_count": 18,
   "metadata": {},
   "outputs": [],
   "source": [
    "import numpy as np\n",
    "import pandas as pd\n",
    "import seaborn as sns\n",
    "import matplotlib.pyplot as plt\n",
    "import seaborn as sns\n",
    "\n",
    "from acquire import get_titanic_data\n",
    "from prepare import prep_titanic    \n",
    "\n",
    "from sklearn.model_selection import train_test_split\n",
    "from sklearn.linear_model import LogisticRegression\n",
    "from sklearn.metrics import classification_report, confusion_matrix"
   ]
  },
  {
   "cell_type": "code",
   "execution_count": 21,
   "metadata": {},
   "outputs": [
    {
     "data": {
      "text/plain": [
       "(     passenger_id  survived  pclass     sex        age  sibsp  parch  \\\n",
       " 583           583         0       1    male  36.000000      0      0   \n",
       " 337           337         1       1  female  41.000000      0      0   \n",
       " 50             50         0       3    male   7.000000      4      1   \n",
       " 218           218         1       1  female  32.000000      0      0   \n",
       " 31             31         1       1  female  29.916875      1      0   \n",
       " ..            ...       ...     ...     ...        ...    ...    ...   \n",
       " 313           313         0       3    male  28.000000      0      0   \n",
       " 636           636         0       3    male  32.000000      0      0   \n",
       " 222           222         0       3    male  51.000000      0      0   \n",
       " 485           485         0       3  female  29.916875      3      1   \n",
       " 553           553         1       3    male  22.000000      0      0   \n",
       " \n",
       "          fare embarked  class  embark_town  alone  Q  S  \n",
       " 583   40.1250        C  First    Cherbourg      1  0  0  \n",
       " 337  134.5000        C  First    Cherbourg      1  0  0  \n",
       " 50    39.6875        S  Third  Southampton      0  0  1  \n",
       " 218   76.2917        C  First    Cherbourg      1  0  0  \n",
       " 31   146.5208        C  First    Cherbourg      0  0  0  \n",
       " ..        ...      ...    ...          ...    ... .. ..  \n",
       " 313    7.8958        S  Third  Southampton      1  0  1  \n",
       " 636    7.9250        S  Third  Southampton      1  0  1  \n",
       " 222    8.0500        S  Third  Southampton      1  0  1  \n",
       " 485   25.4667        S  Third  Southampton      0  0  1  \n",
       " 553    7.2250        C  Third    Cherbourg      1  0  0  \n",
       " \n",
       " [497 rows x 14 columns],\n",
       "      passenger_id  survived  pclass     sex        age  sibsp  parch  \\\n",
       " 610           610         0       3  female  39.000000      1      5   \n",
       " 424           424         0       3    male  18.000000      1      1   \n",
       " 568           568         0       3    male  29.916875      0      0   \n",
       " 701           701         1       1    male  35.000000      0      0   \n",
       " 101           101         0       3    male  29.916875      0      0   \n",
       " ..            ...       ...     ...     ...        ...    ...    ...   \n",
       " 176           176         0       3    male  29.916875      3      1   \n",
       " 372           372         0       3    male  19.000000      0      0   \n",
       " 730           730         1       1  female  29.000000      0      0   \n",
       " 216           216         1       3  female  27.000000      0      0   \n",
       " 26             26         0       3    male  29.916875      0      0   \n",
       " \n",
       "          fare embarked  class  embark_town  alone  Q  S  \n",
       " 610   31.2750        S  Third  Southampton      0  0  1  \n",
       " 424   20.2125        S  Third  Southampton      0  0  1  \n",
       " 568    7.2292        C  Third    Cherbourg      1  0  0  \n",
       " 701   26.2875        S  First  Southampton      1  0  1  \n",
       " 101    7.8958        S  Third  Southampton      1  0  1  \n",
       " ..        ...      ...    ...          ...    ... .. ..  \n",
       " 176   25.4667        S  Third  Southampton      0  0  1  \n",
       " 372    8.0500        S  Third  Southampton      1  0  1  \n",
       " 730  211.3375        S  First  Southampton      1  0  1  \n",
       " 216    7.9250        S  Third  Southampton      1  0  1  \n",
       " 26     7.2250        C  Third    Cherbourg      1  0  0  \n",
       " \n",
       " [214 rows x 14 columns],\n",
       "      passenger_id  survived  pclass     sex        age  sibsp  parch  \\\n",
       " 561           561         0       3    male  40.000000      0      0   \n",
       " 328           328         1       3  female  31.000000      1      1   \n",
       " 643           643         1       3    male  29.916875      0      0   \n",
       " 498           498         0       1  female  25.000000      1      2   \n",
       " 875           875         1       3  female  15.000000      0      0   \n",
       " ..            ...       ...     ...     ...        ...    ...    ...   \n",
       " 339           339         0       1    male  45.000000      0      0   \n",
       " 841           841         0       2    male  16.000000      0      0   \n",
       " 442           442         0       3    male  25.000000      1      0   \n",
       " 815           815         0       1    male  29.916875      0      0   \n",
       " 809           809         1       1  female  33.000000      1      0   \n",
       " \n",
       "          fare embarked   class  embark_town  alone  Q  S  \n",
       " 561    7.8958        S   Third  Southampton      1  0  1  \n",
       " 328   20.5250        S   Third  Southampton      0  0  1  \n",
       " 643   56.4958        S   Third  Southampton      1  0  1  \n",
       " 498  151.5500        S   First  Southampton      0  0  1  \n",
       " 875    7.2250        C   Third    Cherbourg      1  0  0  \n",
       " ..        ...      ...     ...          ...    ... .. ..  \n",
       " 339   35.5000        S   First  Southampton      1  0  1  \n",
       " 841   10.5000        S  Second  Southampton      1  0  1  \n",
       " 442    7.7750        S   Third  Southampton      0  0  1  \n",
       " 815    0.0000        S   First  Southampton      1  0  1  \n",
       " 809   53.1000        S   First  Southampton      0  0  1  \n",
       " \n",
       " [178 rows x 14 columns])"
      ]
     },
     "execution_count": 21,
     "metadata": {},
     "output_type": "execute_result"
    }
   ],
   "source": [
    "df_titanic = prep_titanic()\n",
    "df_titanic"
   ]
  },
  {
   "cell_type": "markdown",
   "metadata": {},
   "source": [
    "### Problem 1"
   ]
  },
  {
   "cell_type": "markdown",
   "metadata": {},
   "source": [
    "Start by defining your baseline model."
   ]
  },
  {
   "cell_type": "markdown",
   "metadata": {},
   "source": [
    "### Problem 2"
   ]
  },
  {
   "cell_type": "markdown",
   "metadata": {},
   "source": [
    "Create another model that includes age in addition to fare and pclass. Does this model perform better than your baseline?"
   ]
  },
  {
   "cell_type": "code",
   "execution_count": null,
   "metadata": {},
   "outputs": [],
   "source": []
  },
  {
   "cell_type": "markdown",
   "metadata": {},
   "source": [
    "### Problem 3"
   ]
  },
  {
   "cell_type": "markdown",
   "metadata": {},
   "source": [
    "Include sex in your model as well. Note that you'll need to encode or create a dummy variable of this feature before including it in a model."
   ]
  },
  {
   "cell_type": "code",
   "execution_count": null,
   "metadata": {},
   "outputs": [],
   "source": []
  },
  {
   "cell_type": "markdown",
   "metadata": {},
   "source": [
    "### Problem 4"
   ]
  },
  {
   "cell_type": "markdown",
   "metadata": {},
   "source": [
    "Try out other combinations of features and models."
   ]
  },
  {
   "cell_type": "code",
   "execution_count": null,
   "metadata": {},
   "outputs": [],
   "source": []
  },
  {
   "cell_type": "markdown",
   "metadata": {},
   "source": [
    "### Problem 5"
   ]
  },
  {
   "cell_type": "markdown",
   "metadata": {},
   "source": [
    "Use you best 3 models to predict and evaluate on your validate sample."
   ]
  },
  {
   "cell_type": "code",
   "execution_count": null,
   "metadata": {},
   "outputs": [],
   "source": []
  },
  {
   "cell_type": "markdown",
   "metadata": {},
   "source": [
    "### Problem 6"
   ]
  },
  {
   "cell_type": "markdown",
   "metadata": {},
   "source": [
    "Choose you best model from the validation performation, and evaluate it on the test dataset. How do the performance metrics compare to validate? to train?"
   ]
  },
  {
   "cell_type": "code",
   "execution_count": null,
   "metadata": {},
   "outputs": [],
   "source": []
  }
 ],
 "metadata": {
  "kernelspec": {
   "display_name": "Python 3",
   "language": "python",
   "name": "python3"
  },
  "language_info": {
   "codemirror_mode": {
    "name": "ipython",
    "version": 3
   },
   "file_extension": ".py",
   "mimetype": "text/x-python",
   "name": "python",
   "nbconvert_exporter": "python",
   "pygments_lexer": "ipython3",
   "version": "3.7.6"
  }
 },
 "nbformat": 4,
 "nbformat_minor": 4
}
